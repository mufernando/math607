{
 "cells": [
  {
   "cell_type": "markdown",
   "id": "loaded-schema",
   "metadata": {},
   "source": [
    "# Math 607 Applied Math I: Week 2 Homework\n",
    "\n",
    "Due date: Thursday, Oct 14.\n",
    "\n",
    "Please submit your solutions by upload on Canvas.\n",
    "\n",
    "It's absolutely OK if you work together on these problems - and this is especially true for the programming problems, when encourage you to work in pairs at one computer, with one person typing and one person thinking.\n",
    "\n",
    "We do want everyone to write up each assignment on their own."
   ]
  },
  {
   "cell_type": "markdown",
   "id": "touched-quarterly",
   "metadata": {},
   "source": [
    "## Problem 1: rooted trees\n",
    "\n",
    "Let $T_n$ be the number of rooted trees of depth $n$\n",
    "with the property that each node except the last has either $1$ or $m$ children.\n",
    "Concretely, we can build these as follows:\n",
    "begin with a single node at level 0 (the root),\n",
    "and then form level $k+1$ by attaching either 1 or $m$ children to each node of level $k$.\n",
    "Order does not matter, so\n",
    "$T_0 = 1$ (by convention?);\n",
    "$T_1 = 1$ (the root);\n",
    "$T_2 = 2$ (the root could have either 1 or $m$ children);\n",
    "and $T_3 = 2 + (m + 1)$\n",
    "(either the root has one child, or the root has $m$ children,\n",
    "and the number of these children that has $m$ children is between 0 and $m$).\n",
    "\n",
    "1. Find a recursion for $T_n$ in terms of $T_{n-1}$.\n",
    "2. Find an equation that the generating function for $T_n$ solves.\n",
    "3. Check your answers by writing a method in python to generate all such trees."
   ]
  },
  {
   "cell_type": "markdown",
   "id": "dd8b1999",
   "metadata": {},
   "source": [
    "#### Answer\n",
    "\n",
    "Note that each tree at step $n$ can be generated from the trees in step $n-1$ in two ways:\n",
    "\n",
    "1. Add a single root to the top of the $n-1$ trees.\n",
    "2. Start with a m-root at the top and connect each node with one of the $n-1$ trees.\n",
    "\n",
    "<img src=\"https://github.com/mufernando/math607/blob/main/hw/img/hw2_p1.jpeg?raw=true\" width=\"200\" />\n",
    "\n",
    "This implies that:\n",
    "\n",
    "$$T_n = T_{n-1} + T_{n-1}^m$$\n",
    "\n",
    "I could not figure out how to solve the generating function for $T_n$."
   ]
  },
  {
   "cell_type": "code",
   "execution_count": 1,
   "id": "13221dfb",
   "metadata": {},
   "outputs": [],
   "source": [
    "import itertools"
   ]
  },
  {
   "cell_type": "code",
   "execution_count": 2,
   "id": "ddcc23f9",
   "metadata": {},
   "outputs": [],
   "source": [
    "# works for n>=1, m>1\n",
    "def generate_trees(n,m):\n",
    "    if n == 1:\n",
    "        return [\"\"] \n",
    "    one_root = [f'({tree})' for tree in generate_trees(n-1, m)]\n",
    "    m_root = [f'({\",\".join(t)})' for t in itertools.product(generate_trees(n-1,m), repeat=m)]\n",
    "    return one_root + m_root"
   ]
  },
  {
   "cell_type": "code",
   "execution_count": 3,
   "id": "4a01ade3",
   "metadata": {},
   "outputs": [
    {
     "data": {
      "text/plain": [
       "['(())',\n",
       " '((,,))',\n",
       " '((),(),())',\n",
       " '((),(),(,,))',\n",
       " '((),(,,),())',\n",
       " '((),(,,),(,,))',\n",
       " '((,,),(),())',\n",
       " '((,,),(),(,,))',\n",
       " '((,,),(,,),())',\n",
       " '((,,),(,,),(,,))']"
      ]
     },
     "execution_count": 3,
     "metadata": {},
     "output_type": "execute_result"
    }
   ],
   "source": [
    "generate_trees(3,3)"
   ]
  },
  {
   "cell_type": "code",
   "execution_count": 4,
   "id": "26ff07c1",
   "metadata": {},
   "outputs": [],
   "source": [
    "def num_trees(n,m):\n",
    "    if n == 1:\n",
    "        return 1\n",
    "    x = num_trees(n-1,m)\n",
    "    return x+(x**m)"
   ]
  },
  {
   "cell_type": "markdown",
   "id": "08791453",
   "metadata": {},
   "source": [
    "Now, let's make sure our function that generates all possible trees at least gives us the right number of trees (based off of the recursion we got)."
   ]
  },
  {
   "cell_type": "code",
   "execution_count": 5,
   "id": "def50cde",
   "metadata": {
    "scrolled": true
   },
   "outputs": [],
   "source": [
    "for m in range(2,5):\n",
    "    for n in range(1,5):\n",
    "        #print (n,m,len(generate_trees(n,m)), num_trees(n,m))\n",
    "        assert (len(generate_trees(n,m))== num_trees(n,m))"
   ]
  },
  {
   "cell_type": "markdown",
   "id": "joint-respect",
   "metadata": {},
   "source": [
    "## Problem 2: recursion and not\n",
    "\n",
    "Consider the following badly written recursive program to compute the Fibonnacci numbers:\n",
    "```\n",
    "def f(n):\n",
    "    if n <= 1:\n",
    "        return n\n",
    "    else:\n",
    "        return f(n-1) + f(n-2)\n",
    "```\n",
    "\n",
    "**(a)** Analyze its run time.\n",
    "\n",
    "**(b)** Write a iterative program to do the same thing, starting with f(0), etc."
   ]
  },
  {
   "cell_type": "code",
   "execution_count": 6,
   "id": "06818eb2",
   "metadata": {},
   "outputs": [],
   "source": [
    "import time\n",
    "from matplotlib import pyplot as plt\n",
    "import scipy.optimize\n",
    "import numpy as np"
   ]
  },
  {
   "cell_type": "code",
   "execution_count": 7,
   "id": "82525ead",
   "metadata": {},
   "outputs": [],
   "source": [
    "def fib(n):\n",
    "    if n <= 1:\n",
    "        return n\n",
    "    else:\n",
    "        return fib(n-1) + fib(n-2)"
   ]
  },
  {
   "cell_type": "markdown",
   "id": "61037f6a",
   "metadata": {},
   "source": [
    "Before we try and analyze `fib`s runtime, note that this algorithm is inefficient: in computing `fib(3)` we would call first `fib(2)` and `fib(1)`, but `fib(2)` would also call `fib(1)` independently. You can see this gets only worse at higher $n$s, and `fib` is called repeatedly for the same $n$."
   ]
  },
  {
   "cell_type": "markdown",
   "id": "e6d4ea6b",
   "metadata": {},
   "source": [
    "To start building a notion of the complexity, let's first note that the time $T$ to compute `fib(n)` is:\n",
    "\n",
    "$$T(n) = T(n-1) + T(n-2)$$\n",
    "and\n",
    "$$T(n-1) > T(n-2)$$\n",
    "\n",
    "Thus,\n",
    "$$T(n) < 2 T(n-1)$$\n",
    "$$T(n-1) < 2 T(n-2)$$\n",
    "\n",
    "so\n",
    "$$ T(n) < 2^2 T(n-2)$$\n",
    "\n",
    "Now, by induction you could repeat this and find that\n",
    "\n",
    "$$T(n) < 2^i T(n-i)$$\n",
    "\n",
    "which means $T(n) = O(2^n)$.\n",
    "\n",
    "At each time we apply the recursion our upper bound on $T$ get's looser and looser, though. Let's try and empirically estimate $T$ by calling our timing the time to run our function for various $n$."
   ]
  },
  {
   "cell_type": "code",
   "execution_count": 8,
   "id": "191df397",
   "metadata": {},
   "outputs": [],
   "source": [
    "def timer(fun,*args):\n",
    "    start = time.time()\n",
    "    ret = fun(*args)\n",
    "    end = time.time()\n",
    "    return (ret, end-start)"
   ]
  },
  {
   "cell_type": "code",
   "execution_count": 9,
   "id": "3a709b1a",
   "metadata": {
    "scrolled": true
   },
   "outputs": [],
   "source": [
    "times = [timer(fib,n)[1] for n in range(1,20)]\n",
    "ns = list(range(1,20))"
   ]
  },
  {
   "cell_type": "code",
   "execution_count": 10,
   "id": "9ab00282",
   "metadata": {},
   "outputs": [
    {
     "data": {
      "text/plain": [
       "[<matplotlib.lines.Line2D at 0x7f8ad3df3650>]"
      ]
     },
     "execution_count": 10,
     "metadata": {},
     "output_type": "execute_result"
    },
    {
     "data": {
      "image/png": "[encoded data removed]",
      "text/plain": [
       "<Figure size 432x288 with 1 Axes>"
      ]
     },
     "metadata": {
      "needs_background": "light"
     },
     "output_type": "display_data"
    }
   ],
   "source": [
    "plt.plot(ns, times)"
   ]
  },
  {
   "cell_type": "code",
   "execution_count": 11,
   "id": "a806eae0",
   "metadata": {},
   "outputs": [],
   "source": [
    "# fitting a curve of the form y = a*b^n (log transformed bc of floating point imprecision)\n",
    "fit, cov = scipy.optimize.curve_fit(lambda n, a, b: a + n * b,  ns,  np.log(times))"
   ]
  },
  {
   "cell_type": "code",
   "execution_count": 12,
   "id": "7731fd73",
   "metadata": {},
   "outputs": [
    {
     "data": {
      "text/plain": [
       "array([3.0908944e-07, 1.5572918e+00])"
      ]
     },
     "execution_count": 12,
     "metadata": {},
     "output_type": "execute_result"
    }
   ],
   "source": [
    "np.exp(fit)"
   ]
  },
  {
   "cell_type": "markdown",
   "id": "86c6a847",
   "metadata": {},
   "source": [
    "This implies the time to compute $\\text{fib}(n)$ is closer to $O(1.6^n)$"
   ]
  },
  {
   "cell_type": "markdown",
   "id": "a161a314",
   "metadata": {},
   "source": [
    "Below, I write `fibb`, an alternative implementation to compute Fibonacci numbers that works iteratively (and note it also always remembers the last two elements of the sequence, to avoid having to re-compute it every time."
   ]
  },
  {
   "cell_type": "code",
   "execution_count": 13,
   "id": "f30f1017",
   "metadata": {},
   "outputs": [],
   "source": [
    "def fibb(n):\n",
    "    n1 = 1\n",
    "    n2 = 1\n",
    "    if n == 0:\n",
    "        fi = 0\n",
    "    else:\n",
    "        fi = n2\n",
    "    for i in range(2,n):\n",
    "        fi = n1 + n2\n",
    "        n1,n2 = fi, n1\n",
    "    return fi"
   ]
  },
  {
   "cell_type": "code",
   "execution_count": 14,
   "id": "62c79b2f",
   "metadata": {},
   "outputs": [],
   "source": [
    "# checking it produces the same output as fib\n",
    "for i in range(0, 20):\n",
    "    assert fib(i) == fibb(i)"
   ]
  },
  {
   "cell_type": "code",
   "execution_count": 15,
   "id": "23091a27",
   "metadata": {},
   "outputs": [
    {
     "data": {
      "text/plain": [
       "[<matplotlib.lines.Line2D at 0x7f8ad3ef5d10>]"
      ]
     },
     "execution_count": 15,
     "metadata": {},
     "output_type": "execute_result"
    },
    {
     "data": {
      "image/png": "[encoded data removed]",
      "text/plain": [
       "<Figure size 432x288 with 1 Axes>"
      ]
     },
     "metadata": {
      "needs_background": "light"
     },
     "output_type": "display_data"
    }
   ],
   "source": [
    "times = [timer(fibb,n)[1] for n in range(2,200)]\n",
    "ns = list(range(2,200))\n",
    "plt.plot(ns, times)"
   ]
  },
  {
   "cell_type": "code",
   "execution_count": 16,
   "id": "cf4f024a",
   "metadata": {},
   "outputs": [
    {
     "data": {
      "text/plain": [
       "array([2.97043846e-06, 5.26719883e-08])"
      ]
     },
     "execution_count": 16,
     "metadata": {},
     "output_type": "execute_result"
    }
   ],
   "source": [
    "fit2, cov2 = scipy.optimize.curve_fit(lambda n, a, b: a + n * b,  ns,  times)\n",
    "fit2"
   ]
  },
  {
   "cell_type": "markdown",
   "id": "3b91838a",
   "metadata": {},
   "source": [
    "This implies the time to compute `fib(n)` is just $O(n)$, so it is way faster than `fib`!!"
   ]
  },
  {
   "cell_type": "markdown",
   "id": "fleet-screening",
   "metadata": {},
   "source": [
    "## Problem 3: Recursive mountains\n",
    "\n",
    "Recall that with $C_n$ the number of \"mountain ranges\" of length $2n$\n",
    "we found the recursive formula\n",
    "$$ C_n = \\sum_{j=0}^{n-1} C_j C_{n-j-1} $$\n",
    "by decomposing a mountain range into the first mountain (of length $2(j+1)$) and everything else.\n",
    "Write a iterative function that generates all mountain ranges of length $2n$\n",
    "using this same decomposition,\n",
    "and compare the results to the recursive method we wrote in office hours (see the website for the notebook)."
   ]
  },
  {
   "cell_type": "code",
   "execution_count": 17,
   "id": "d9e28315",
   "metadata": {},
   "outputs": [],
   "source": [
    "import itertools"
   ]
  },
  {
   "cell_type": "code",
   "execution_count": 18,
   "id": "065c44d5",
   "metadata": {},
   "outputs": [],
   "source": [
    "# recursive from office hours\n",
    "def mountainsr(n):\n",
    "    if n == 0:\n",
    "        yield \"\"\n",
    "    else:\n",
    "        for j in range(n):\n",
    "            for left in mountainsr(j):\n",
    "                for right in mountainsr(n-j-1):\n",
    "                    # add \"(\" and \")\" around left to make it a \"single mountain\",\n",
    "                    # not a mountain range\n",
    "                    yield \"(\" + left + \")\" + right\n"
   ]
  },
  {
   "cell_type": "code",
   "execution_count": 19,
   "id": "bb1fb56c",
   "metadata": {},
   "outputs": [],
   "source": [
    "# two conditions for a valid mountain range:\n",
    "# 1. as you iterate over characters in a m.r., the number of ) may never exceed the number of )\n",
    "# 2. at the end, you need to have same number of ( and )\n",
    "def is_valid(m):\n",
    "    left_excess = 0\n",
    "    for c in m:\n",
    "        if c == '(':\n",
    "            left_excess += 1\n",
    "        else:\n",
    "            left_excess -= 1\n",
    "        if left_excess < 0:\n",
    "            return False\n",
    "    return left_excess == 0"
   ]
  },
  {
   "cell_type": "code",
   "execution_count": 20,
   "id": "a3d6ca0d",
   "metadata": {},
   "outputs": [],
   "source": [
    "# iterative function\n",
    "def mountainsi(n):\n",
    "    mts = []\n",
    "    for m in itertools.product([\"(\",\")\"], repeat=2*n):\n",
    "        if is_valid(m):\n",
    "            mts.append(\"\".join(m))\n",
    "    return mts"
   ]
  },
  {
   "cell_type": "code",
   "execution_count": 21,
   "id": "bb875354",
   "metadata": {},
   "outputs": [],
   "source": [
    "for n in range(10):\n",
    "    assert set(mountainsi(n)) == set(mountainsr(n))"
   ]
  },
  {
   "cell_type": "code",
   "execution_count": 22,
   "id": "8fc4a3cd",
   "metadata": {},
   "outputs": [],
   "source": [
    "r=range(0,10)\n",
    "ns = list(r)\n",
    "tsr = [timer(mountainsr,n)[1] for n in r]\n",
    "tsi = [timer(mountainsi,n)[1] for n in r]"
   ]
  },
  {
   "cell_type": "code",
   "execution_count": 23,
   "id": "1fc88569",
   "metadata": {},
   "outputs": [
    {
     "data": {
      "text/plain": [
       "<matplotlib.legend.Legend at 0x7f8ad409a990>"
      ]
     },
     "execution_count": 23,
     "metadata": {},
     "output_type": "execute_result"
    },
    {
     "data": {
      "image/png": "[encoded data removed]",
      "text/plain": [
       "<Figure size 432x288 with 1 Axes>"
      ]
     },
     "metadata": {
      "needs_background": "light"
     },
     "output_type": "display_data"
    }
   ],
   "source": [
    "plt.plot(ns, tsr, label=\"rec\")\n",
    "plt.plot(ns, tsi, label=\"ite\")\n",
    "plt.legend()"
   ]
  },
  {
   "cell_type": "markdown",
   "id": "bf33ca58",
   "metadata": {},
   "source": [
    "Using the closed form solution to the Catalan Numbers, we get that a upper bound on it would be (see wikipedia [here](https://en.wikipedia.org/wiki/Catalan_number)).\n",
    "\n",
    "$$C_n \\approx \\frac{4^n}{n^{\\frac{3}{2}}\\sqrt{\\pi}}$$\n",
    "\n",
    "So $O(C_n) = 4^n$.\n",
    "\n",
    "The iterative solution is much slower, however. We have to first generate all the possible strings with $2n$ '(' and ')'s. This would cost $2^{2n}$. But for each string, we need to validate it by iterating over the entire string, which would cost $2n$. Thus, the time to generate all mountain ranges of size $2n$ using the iterative function would be $O(n2^{2n})$."
   ]
  },
  {
   "cell_type": "markdown",
   "id": "terminal-crash",
   "metadata": {},
   "source": [
    "## Problem 4: outbreak size\n",
    "\n",
    "Consider an outbreak of a disease with $R_0 \\le 1$:\n",
    "suppose the mean number of new cases per case is $\\xi$ with $\\mathbb{E}[\\xi] = R_0 \\le 1$.\n",
    "We'd like to learn about the *total* number of cases in the outbreak:\n",
    "suppose $(N_t)_{t \\ge 0}$ is the branching process driven by $\\xi$\n",
    "and let $W_t = N_0 + N_1 + \\cdots + N_t$,\n",
    "and $W = \\lim_t W_t$. \n",
    "Suppose the outbreak has $N_0 = 1$,\n",
    "and to agree with previous notation let $\\mu = R_0$.\n",
    "\n",
    "**(a)** Find $\\mathbb{E}[W]$.\n",
    "\n",
    "**(b)** Let $G_t(u) = \\mathbb{E}[u^{W_t}]$, and $\\phi(u) = \\mathbb{E}[u^\\xi]$,\n",
    "    and show that $G_{t+1}(u) = u \\phi(G_t(u))$,\n",
    "    and so $G(u) =  \\mathbb{E}[u^{W}] = u \\phi(G(u))$.\n",
    "    *(Hint: split it into the families of the first set of children.)*\n",
    "    \n",
    "**(c)** Find the variance of $W$ in terms of $mu$ and $V = \\mathbb{E}[\\xi^2]$.\n",
    "\n",
    "**(d)** Write a function that simulates from the branching process\n",
    "in the case where $\\xi \\sim \\text{Poisson}(\\lambda)$,\n",
    "and use it to check your answers to (a) and (c) at a few values of $\\mu < 1$.\n",
    "\n",
    "**(e)**\n",
    "What happens when you use your simulation to try to estimate the mean of $W$ at $\\mu = 1$?\n",
    "Plot the mean of $n$ independent trials against $n$ at $\\mu=0.95$ and at $\\mu=1$."
   ]
  },
  {
   "cell_type": "markdown",
   "id": "b13f2e32",
   "metadata": {},
   "source": [
    "### Answer\n",
    "\n",
    "#### d) and e)"
   ]
  },
  {
   "cell_type": "code",
   "execution_count": 24,
   "id": "5b8bbb99",
   "metadata": {},
   "outputs": [],
   "source": [
    "import numpy as np"
   ]
  },
  {
   "cell_type": "code",
   "execution_count": 25,
   "id": "5d79a085",
   "metadata": {},
   "outputs": [],
   "source": [
    "def sim_bp(t, mu):\n",
    "    last_n = 1\n",
    "    tot = last_n\n",
    "    for i in range(1,t+1):\n",
    "        # sum of poisson R.V.s is poisson with lambda = sum of lambdas\n",
    "        new_n = np.random.poisson(mu*last_n, 1)[0]\n",
    "        tot += new_n\n",
    "        last_n = new_n\n",
    "    return(tot)"
   ]
  },
  {
   "cell_type": "markdown",
   "id": "d3c7d6f8",
   "metadata": {},
   "source": [
    "How does the closed form theoretical solution to $\\mathbb{E}(W)$ compare to an empirical average of the $W$s?"
   ]
  },
  {
   "cell_type": "code",
   "execution_count": 26,
   "id": "38ddef12",
   "metadata": {},
   "outputs": [
    {
     "name": "stdout",
     "output_type": "stream",
     "text": [
      "\tTheory\tEmpirical\n",
      "mu=0.01\t1.010\t1.010\n",
      "mu=0.5\t2.000\t2.100\n",
      "mu=0.95\t20.000\t21.600\n"
     ]
    }
   ],
   "source": [
    "print(\"\\tTheory\\tEmpirical\")\n",
    "for mu in [0.01,0.5,0.95]:\n",
    "    ws = [sim_bp(10000, mu) for _ in range(100)]\n",
    "    the_expw = 1/(1-mu)\n",
    "    obs_expw = np.mean(ws)\n",
    "    print(f\"mu={mu}\\t{the_expw:.3f}\\t{obs_expw:.3f}\")"
   ]
  },
  {
   "cell_type": "code",
   "execution_count": 27,
   "id": "283ecd24",
   "metadata": {},
   "outputs": [],
   "source": [
    "ns = [20,80,320,4*320,4*4*320]\n",
    "means_95 = [np.mean([sim_bp(10000, 0.95) for _ in range(n)]) for n in ns]"
   ]
  },
  {
   "cell_type": "code",
   "execution_count": 28,
   "id": "148a2658",
   "metadata": {},
   "outputs": [],
   "source": [
    "means_100 = [np.mean([sim_bp(10000, 1) for _ in range(n)]) for n in ns]"
   ]
  },
  {
   "cell_type": "markdown",
   "id": "cbe07fa1",
   "metadata": {},
   "source": [
    "The $\\mathbb{E}[W]$ converges quickly in the case of $\\mu=0.95$, but doesn't seem to converge for $\\mu=1$."
   ]
  },
  {
   "cell_type": "code",
   "execution_count": 31,
   "id": "951f2595",
   "metadata": {},
   "outputs": [
    {
     "data": {
      "text/plain": [
       "<matplotlib.legend.Legend at 0x7f8ad4309e90>"
      ]
     },
     "execution_count": 31,
     "metadata": {},
     "output_type": "execute_result"
    },
    {
     "data": {
      "image/png": "[encoded data removed]",
      "text/plain": [
       "<Figure size 432x288 with 1 Axes>"
      ]
     },
     "metadata": {
      "needs_background": "light"
     },
     "output_type": "display_data"
    }
   ],
   "source": [
    "plt.plot(ns, np.log10(means_95), label=\"0.95\")\n",
    "plt.plot(ns, np.log10(means_100), label=\"1.00\")\n",
    "plt.legend()"
   ]
  },
  {
   "cell_type": "markdown",
   "id": "c7f369c8",
   "metadata": {},
   "source": [
    "#### a) and b)\n",
    "\n",
    "<img src=\"https://github.com/mufernando/math607/blob/main/hw/img/hw2_p4a.jpeg?raw=true\" width=\"600\" />\n",
    "\n",
    "<img src=\"https://github.com/mufernando/math607/blob/main/hw/img/hw2_p4b.jpeg?raw=true\" width=\"600\" />\n"
   ]
  }
 ],
 "metadata": {
  "kernelspec": {
   "display_name": "Python 3",
   "language": "python",
   "name": "python3"
  },
  "language_info": {
   "codemirror_mode": {
    "name": "ipython",
    "version": 3
   },
   "file_extension": ".py",
   "mimetype": "text/x-python",
   "name": "python",
   "nbconvert_exporter": "python",
   "pygments_lexer": "ipython3",
   "version": "3.7.11"
  }
 },
 "nbformat": 4,
 "nbformat_minor": 5
}
