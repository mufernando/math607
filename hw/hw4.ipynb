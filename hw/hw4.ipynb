{
 "cells": [
  {
   "cell_type": "markdown",
   "id": "loaded-schema",
   "metadata": {},
   "source": [
    "# Math 607 Applied Math I: Week 3 Homework\n",
    "\n",
    "Due date: Thursday, Oct 21.\n",
    "\n",
    "Please submit your solutions by upload on Canvas.\n",
    "\n",
    "It's absolutely OK if you work together on these problems - and this is especially true for the programming problems, when encourage you to work in pairs at one computer, with one person typing and one person thinking.\n",
    "\n",
    "We do want everyone to write up each assignment on their own."
   ]
  },
  {
   "cell_type": "markdown",
   "id": "opposite-convergence",
   "metadata": {},
   "source": [
    "# 1. $d$-regular eigenvalues\n",
    "\n",
    "Recall that the *adjacency matrix* $A$ of an undirected graph is the matrix with $A_{ij} = 1$ if there is an edge between $i$ and $j$ in the graph, and $A_{ij} = 0$ otherwise.\n",
    "A $d$*-regular* graph is one for which the degree of every vertex is exactly $d$.\n",
    "\n",
    "*a.* Show that the adjacency matrix of the *complete graph* on $n$ vertices (i.e., the $(n-1)$-regular graph)\n",
    "    has two eigenvalues: $n-1$, with multiplicity 1, and $-1$, with multiplicity $n-1$.\n",
    "    \n",
    "*b.* Show that the adjacency matrix of any $d$-regular graph has an eigenspace with eigenvalue $d$. What determines the dimension of this eigenspace?"
   ]
  },
  {
   "cell_type": "markdown",
   "id": "finished-perfume",
   "metadata": {},
   "source": [
    "# 2. Uniform spanning trees\n",
    "\n",
    "One way to sample a uniform spanning tree of a graph $G$\n",
    "is the *Aldous-Broder* algorithm: choose a vertex $r$ of $G$ and perform a random walk on $G$, starting at $r$,\n",
    "until every vertex has been visited.\n",
    "For each vertex $w \\neq r$, remember the edge that was traversed by\n",
    "the walk on it's first visit to $w$.\n",
    "These edges are the uniform spanning tree.\n",
    "(For simplicity, we're dealing with an unweighted graph -\n",
    "all weights are 1 - and the \"random walk on a graph\"\n",
    "is the one that, at each time step, chooses a random edge\n",
    "incident to the vertex it's currently at\n",
    "to move along.)\n",
    "\n",
    "**(a)** Implement the Aldous-Broder algorithm on the $m \\times n$ grid.\n",
    "\n",
    "**(b)** Plot an example or two on a 30x40 grid.\n",
    "(It may be helpful to look at the plotting code [here](https://uo-applied-math.github.io/applied_math/2019/demos/random_spanning_tree.html).\n",
    "\n",
    "**(c)** How many spanning trees *are* there of the 30x40 grid?"
   ]
  },
  {
   "cell_type": "code",
   "execution_count": 67,
   "id": "d84220d9",
   "metadata": {},
   "outputs": [],
   "source": [
    "import numpy as np\n",
    "rng = np.random.default_rng(seed=31)"
   ]
  },
  {
   "cell_type": "code",
   "execution_count": 68,
   "id": "8f8478f2",
   "metadata": {},
   "outputs": [],
   "source": [
    "m = 3\n",
    "n = 2"
   ]
  },
  {
   "cell_type": "code",
   "execution_count": 69,
   "id": "ee358f1f",
   "metadata": {},
   "outputs": [],
   "source": [
    "all_nodes = [(i, j) for i in range(m) for j in range(n)]"
   ]
  },
  {
   "cell_type": "code",
   "execution_count": 70,
   "id": "1013361a",
   "metadata": {},
   "outputs": [
    {
     "name": "stdout",
     "output_type": "stream",
     "text": [
      "[(0, 0), (0, 1), (1, 0), (1, 1), (2, 0), (2, 1)]\n"
     ]
    }
   ],
   "source": [
    "print(all_nodes)"
   ]
  },
  {
   "cell_type": "code",
   "execution_count": 71,
   "id": "83e8df59",
   "metadata": {},
   "outputs": [],
   "source": [
    "import numpy as np\n",
    "\n",
    "def possible_steps(node, m, n):\n",
    "    steps = np.array([[0,1],[0,-1],[-1,0],[1,0]])\n",
    "    possibilities = node + steps\n",
    "    allowed = ((possibilities[:,0] >= m) + \n",
    "                   (possibilities[:,0] < 0) + \n",
    "                   (possibilities[:,1] >= n) + \n",
    "                   (possibilities[:,1] < 0)) == 0\n",
    "    return steps[allowed]"
   ]
  },
  {
   "cell_type": "code",
   "execution_count": 72,
   "id": "5ed1834c",
   "metadata": {},
   "outputs": [
    {
     "name": "stdout",
     "output_type": "stream",
     "text": [
      "old:  (0, 1)\n",
      "new:  (1, 1)\n",
      "forward step:  [1 0]\n",
      "back step:  [-1  0]\n",
      "old:  (1, 1)\n",
      "new:  (2, 1)\n",
      "forward step:  [1 0]\n",
      "back step:  [-1  0]\n",
      "old:  (2, 1)\n",
      "new:  (2, 0)\n",
      "forward step:  [ 0 -1]\n",
      "back step:  [0 1]\n",
      "old:  (2, 0)\n",
      "new:  (2, 1)\n",
      "old:  (2, 1)\n",
      "new:  (1, 1)\n",
      "old:  (1, 1)\n",
      "new:  (2, 1)\n",
      "old:  (2, 1)\n",
      "new:  (2, 0)\n",
      "old:  (2, 0)\n",
      "new:  (2, 1)\n",
      "old:  (2, 1)\n",
      "new:  (2, 0)\n",
      "old:  (2, 0)\n",
      "new:  (1, 0)\n",
      "forward step:  [-1  0]\n",
      "back step:  [1 0]\n",
      "old:  (1, 0)\n",
      "new:  (2, 0)\n",
      "old:  (2, 0)\n",
      "new:  (2, 1)\n",
      "old:  (2, 1)\n",
      "new:  (2, 0)\n",
      "old:  (2, 0)\n",
      "new:  (2, 1)\n",
      "old:  (2, 1)\n",
      "new:  (1, 1)\n",
      "old:  (1, 1)\n",
      "new:  (1, 0)\n",
      "old:  (1, 0)\n",
      "new:  (2, 0)\n",
      "old:  (2, 0)\n",
      "new:  (1, 0)\n",
      "old:  (1, 0)\n",
      "new:  (0, 0)\n",
      "forward step:  [-1  0]\n",
      "back step:  [1 0]\n"
     ]
    }
   ],
   "source": [
    "start = (0,1)\n",
    "xy = np.array([[(0,0) for _ in range(n)] for _ in range(m)])\n",
    "tree = [start]\n",
    "current = start\n",
    "while set(tree) != set(all_nodes):\n",
    "    print(\"old: \", current)\n",
    "    steps = possible_steps(current,m,n)\n",
    "    step = rng.choice(steps)\n",
    "    current = tuple(current+step)\n",
    "    print(\"new: \",current)\n",
    "    if current not in tree:\n",
    "        tree.append(current)\n",
    "        xy[current] = -step\n",
    "        print(\"forward step: \", step)\n",
    "        print(\"back step: \", -step)"
   ]
  },
  {
   "cell_type": "code",
   "execution_count": 81,
   "id": "37fc3a5c",
   "metadata": {},
   "outputs": [
    {
     "data": {
      "text/plain": [
       "<matplotlib.quiver.Quiver at 0x7fdbdbaff310>"
      ]
     },
     "execution_count": 81,
     "metadata": {},
     "output_type": "execute_result"
    },
    {
     "data": {
      "image/png": "[encoded data removed]",
      "text/plain": [
       "<Figure size 432x288 with 1 Axes>"
      ]
     },
     "metadata": {
      "needs_background": "light"
     },
     "output_type": "display_data"
    }
   ],
   "source": [
    "import matplotlib\n",
    "import matplotlib.pyplot as plt\n",
    "\n",
    "points = np.array([[i, j] for i in range(m) for j in range(n)])\n",
    "\n",
    "fig, ax = plt.subplots()\n",
    "ax.scatter(points[:, 1], points[:, 0])\n",
    "ax.quiver(np.arange(n), np.arange(m),\n",
    "          xy[:,:,1], xy[:,:,0], scale_units='xy', angles='xy', scale=1)"
   ]
  },
  {
   "cell_type": "code",
   "execution_count": 15,
   "id": "9d4d42a9",
   "metadata": {},
   "outputs": [
    {
     "data": {
      "text/plain": [
       "[(0, 0), (0, 1), (1, 0), (1, 1)]"
      ]
     },
     "execution_count": 15,
     "metadata": {},
     "output_type": "execute_result"
    }
   ],
   "source": [
    "all_nodes"
   ]
  },
  {
   "cell_type": "code",
   "execution_count": null,
   "id": "80ec0484",
   "metadata": {},
   "outputs": [],
   "source": [
    "nodes_map.keys()"
   ]
  },
  {
   "cell_type": "code",
   "execution_count": null,
   "id": "bda2a237",
   "metadata": {},
   "outputs": [],
   "source": [
    "steps = np.array([[0,1],[0,-1],[-1,0],[1,0]])"
   ]
  },
  {
   "cell_type": "code",
   "execution_count": null,
   "id": "d5d1efe5",
   "metadata": {},
   "outputs": [],
   "source": [
    "list(nodes_map.keys())[0] + steps"
   ]
  },
  {
   "cell_type": "code",
   "execution_count": null,
   "id": "277c455d",
   "metadata": {},
   "outputs": [],
   "source": [
    "possibilities = nodes[1] + steps\n",
    "possibilities"
   ]
  },
  {
   "cell_type": "code",
   "execution_count": null,
   "id": "312658e6",
   "metadata": {},
   "outputs": [],
   "source": [
    "tuple(possibilities[allowed][0,])"
   ]
  },
  {
   "cell_type": "code",
   "execution_count": null,
   "id": "eb769bdf",
   "metadata": {},
   "outputs": [],
   "source": [
    "np.equal(nodes, possibilities[allowed])"
   ]
  },
  {
   "cell_type": "code",
   "execution_count": null,
   "id": "83ffecd7",
   "metadata": {},
   "outputs": [],
   "source": [
    "np.where(nodes, possibilities[allowed])"
   ]
  },
  {
   "cell_type": "code",
   "execution_count": null,
   "id": "56ee2ed4",
   "metadata": {},
   "outputs": [],
   "source": [
    "\n",
    "\n",
    "def gen_adj_grid(m,n):\n",
    "    nodes = [(x,y) for x in range(m) for y in range(n)]\n",
    "    nodes_map = {node: i for i, node in enumerate(nodes)}\n",
    "    #print(nodes_map)\n",
    "    A = np.zeros((m*n,m*n))\n",
    "    for node, i in nodes_map.items():\n",
    "        #print(node, i)\n",
    "        steps = allowed_steps(node,m,n)\n",
    "        #print(steps)\n",
    "        for step in steps:\n",
    "            #print(step)\n",
    "            A[i,nodes_map[tuple(step)]] = 1\n",
    "\n",
    "    return(A, nodes_map)"
   ]
  },
  {
   "cell_type": "code",
   "execution_count": null,
   "id": "3b24c80c",
   "metadata": {},
   "outputs": [],
   "source": [
    "A, nodes_map = gen_adj_grid(30,40)"
   ]
  },
  {
   "cell_type": "code",
   "execution_count": null,
   "id": "19dc85c9",
   "metadata": {},
   "outputs": [],
   "source": [
    "A.shape"
   ]
  },
  {
   "cell_type": "code",
   "execution_count": null,
   "id": "c3e55eab",
   "metadata": {},
   "outputs": [],
   "source": [
    "def graph_laplacian(A):\n",
    "    L = np.zeros(shape=A.shape)\n",
    "    for i in range(len(A)):\n",
    "        for j in range(len(A)):\n",
    "            if A[i,j] == 1:\n",
    "                if i <= j:\n",
    "                    L[i,j]  =  np.sum(A[i,:])\n",
    "                else :\n",
    "                    L[i,j] = -1\n",
    "    return L"
   ]
  },
  {
   "cell_type": "code",
   "execution_count": null,
   "id": "74702ac9",
   "metadata": {},
   "outputs": [],
   "source": [
    "L = graph_laplacian(A)"
   ]
  },
  {
   "cell_type": "code",
   "execution_count": null,
   "id": "eb4955f2",
   "metadata": {},
   "outputs": [],
   "source": [
    "L2 = networkx.linalg.laplacianmatrix.laplacian_matrix(networkx.convert_matrix.from_numpy_matrix(A))"
   ]
  },
  {
   "cell_type": "code",
   "execution_count": null,
   "id": "9de26524",
   "metadata": {},
   "outputs": [],
   "source": [
    "import scipy"
   ]
  },
  {
   "cell_type": "code",
   "execution_count": null,
   "id": "0e45a5d7",
   "metadata": {},
   "outputs": [],
   "source": [
    "L2 = scipy.sparse.csr_matrix.toarray(L2)"
   ]
  },
  {
   "cell_type": "code",
   "execution_count": null,
   "id": "709c086c",
   "metadata": {},
   "outputs": [],
   "source": [
    "L2"
   ]
  },
  {
   "cell_type": "code",
   "execution_count": null,
   "id": "f86ea1fd",
   "metadata": {},
   "outputs": [],
   "source": [
    "L3 = np.diag(np.sum(A,axis=1)) - A"
   ]
  },
  {
   "cell_type": "code",
   "execution_count": null,
   "id": "eca092f5",
   "metadata": {
    "scrolled": true
   },
   "outputs": [],
   "source": [
    "L = graph_laplacian(A)"
   ]
  },
  {
   "cell_type": "code",
   "execution_count": null,
   "id": "a8568894",
   "metadata": {},
   "outputs": [],
   "source": [
    "L"
   ]
  },
  {
   "cell_type": "code",
   "execution_count": null,
   "id": "af25dfda",
   "metadata": {},
   "outputs": [],
   "source": [
    "np.linalg.det(L3[:-1,:-1])"
   ]
  },
  {
   "cell_type": "code",
   "execution_count": null,
   "id": "cedcb6a9",
   "metadata": {},
   "outputs": [],
   "source": [
    "L3v = np.delete(L, 3, axis=1)\n",
    "L3v = np.delete(L3v, 3, axis=0)"
   ]
  },
  {
   "cell_type": "code",
   "execution_count": null,
   "id": "4083d374",
   "metadata": {
    "scrolled": false
   },
   "outputs": [],
   "source": [
    "np.linalg.det(L3[:-1,:-1])"
   ]
  },
  {
   "cell_type": "code",
   "execution_count": null,
   "id": "198bec83",
   "metadata": {},
   "outputs": [],
   "source": [
    "np.linalg.det(L[:-1,:-1])"
   ]
  },
  {
   "cell_type": "markdown",
   "id": "spiritual-hormone",
   "metadata": {},
   "source": [
    "# 3. The Ising model\n",
    "\n",
    "Use the Metropolis-Hastings algorithm to sample from the Ising model's\n",
    "distribution, and plot the results on a 100x100 grid at $T=0.01$.\n",
    "Explain carefully why your algorithm works.\n",
    "Here is some skeleton code to do this:"
   ]
  },
  {
   "cell_type": "code",
   "execution_count": null,
   "id": "charged-virgin",
   "metadata": {},
   "outputs": [],
   "source": [
    "class Ising(object):\n",
    "    \n",
    "    def __init__(self, n, m):\n",
    "        self.n = n\n",
    "        self.m = m\n",
    "        self.state = np.random.choice([-1, 1], n*m).reshape((n, m))\n",
    "    \n",
    "    def plot(self):\n",
    "        fig, ax = plt.subplots()\n",
    "        ax.set_aspect(1)\n",
    "        xy = np.array([[a, b] for a in range(self.n) for b in range(self.m)])\n",
    "        fills = ['black' if (s == 1) else 'white' for s in self.state.reshape((self.n*self.m,))]\n",
    "        ax.scatter(xy[:,0], xy[:,1], c=fills, marker=\"8\", s=5)\n",
    "    \n",
    "    def update(self, T):\n",
    "        ## FILL ME: should do one Metropolis-Hastings update step\n",
    "        ## to self.state\n",
    "        \n",
    "        \n",
    "ising = Ising(100, 100)\n",
    "for _ in range(100000):\n",
    "    ising.update(0.01)\n",
    "ising.plot()"
   ]
  },
  {
   "cell_type": "markdown",
   "id": "viral-drive",
   "metadata": {},
   "source": [
    "# 4. Random walk on a graph\n",
    "\n",
    "Let $X$ be the random walk on an unweighted graph $G = (V,E)$,\n",
    "i.e., the transition probabilities are\n",
    "$\\mathbb{P}\\{X_{k+1} = y \\;\\|\\; X_k=x\\} = 1/\\text{deg}(x)$\n",
    "for $(x,y) \\in E$ and 0 otherwise.\n",
    "\n",
    "\n",
    "**(a)** Show that $X$ is reversible with respect to\n",
    "$$ \\pi(x) \\propto \\text{deg}(x) .$$\n",
    "\n",
    "**(b)** Let $A$ be the adjacency matrix of the graph\n",
    "and $D$ be the diagonal matrix with $D_{xx} = \\text{deg}(x)$.\n",
    "Show that $P = $D^{-1} A$ is the transition matrix for $X$, so\n",
    "$$\n",
    "  \\mathbb{E}[f(X_t) \\;|\\; X_0 = x] = (P^t f)(x) .\n",
    "$$\n",
    "\n",
    "**(c)** How could we minimally modify the random walk\n",
    "so that the stationary distribution was *uniform*?"
   ]
  }
 ],
 "metadata": {
  "kernelspec": {
   "display_name": "Python 3",
   "language": "python",
   "name": "python3"
  },
  "language_info": {
   "codemirror_mode": {
    "name": "ipython",
    "version": 3
   },
   "file_extension": ".py",
   "mimetype": "text/x-python",
   "name": "python",
   "nbconvert_exporter": "python",
   "pygments_lexer": "ipython3",
   "version": "3.7.11"
  }
 },
 "nbformat": 4,
 "nbformat_minor": 5
}
